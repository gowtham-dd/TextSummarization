{
 "cells": [
  {
   "cell_type": "markdown",
   "metadata": {},
   "source": [
    "## Model Evaluation"
   ]
  },
  {
   "cell_type": "code",
   "execution_count": 1,
   "metadata": {},
   "outputs": [
    {
     "data": {
      "text/plain": [
       "'d:\\\\Data Science\\\\END to END Proj\\\\TextSummarization'"
      ]
     },
     "execution_count": 1,
     "metadata": {},
     "output_type": "execute_result"
    }
   ],
   "source": [
    "import os\n",
    "%pwd\n",
    "os.chdir(\"../\")\n",
    "%pwd\n"
   ]
  },
  {
   "cell_type": "code",
   "execution_count": 2,
   "metadata": {},
   "outputs": [],
   "source": [
    "\n",
    "from dataclasses import dataclass\n",
    "from pathlib import Path\n",
    "\n",
    "\n",
    "@dataclass(frozen=True)\n",
    "class ModelEvaluationConfig:\n",
    "    root_dir: Path\n",
    "    data_path: Path\n",
    "    model_path: Path\n",
    "    tokenizer_path: Path\n",
    "    metric_file_name: Path"
   ]
  },
  {
   "cell_type": "code",
   "execution_count": 3,
   "metadata": {},
   "outputs": [],
   "source": [
    "from TextSummarization.constant import *\n",
    "from TextSummarization.utils.common import read_yaml, create_directories\n",
    "class ConfigurationManager:\n",
    "    def __init__(\n",
    "        self,\n",
    "        config_filepath = CONFIG_FILE_PATH,\n",
    "        params_filepath = PARAMS_FILE_PATH):\n",
    "\n",
    "        self.config = read_yaml(config_filepath)\n",
    "        self.params = read_yaml(params_filepath)\n",
    "\n",
    "        create_directories([self.config.artifacts_root])\n",
    "\n",
    "\n",
    "    \n",
    "    def get_model_evaluation_config(self) -> ModelEvaluationConfig:\n",
    "        config = self.config.model_evaluation\n",
    "\n",
    "        create_directories([config.root_dir])\n",
    "\n",
    "        model_evaluation_config = ModelEvaluationConfig(\n",
    "            root_dir=config.root_dir,\n",
    "            data_path=config.data_path,\n",
    "            model_path = config.model_path,\n",
    "            tokenizer_path = config.tokenizer_path,\n",
    "            metric_file_name = config.metric_file_name\n",
    "           \n",
    "        )\n",
    "\n",
    "        return model_evaluation_config\n"
   ]
  },
  {
   "cell_type": "code",
   "execution_count": 4,
   "metadata": {},
   "outputs": [
    {
     "name": "stderr",
     "output_type": "stream",
     "text": [
      "d:\\Data Science\\END to END Proj\\TextSummarization\\venv\\Lib\\site-packages\\tqdm\\auto.py:21: TqdmWarning: IProgress not found. Please update jupyter and ipywidgets. See https://ipywidgets.readthedocs.io/en/stable/user_install.html\n",
      "  from .autonotebook import tqdm as notebook_tqdm\n"
     ]
    }
   ],
   "source": [
    "from transformers import AutoModelForSeq2SeqLM, AutoTokenizer\n",
    "from datasets import load_dataset, load_from_disk\n",
    "import evaluate\n",
    "import torch\n",
    "import pandas as pd\n",
    "from tqdm import tqdm"
   ]
  },
  {
   "cell_type": "code",
   "execution_count": 6,
   "metadata": {},
   "outputs": [],
   "source": [
    "import os\n",
    "from pathlib import Path\n",
    "import pandas as pd\n",
    "from tqdm import tqdm\n",
    "import evaluate\n",
    "from transformers import AutoModelForSeq2SeqLM, AutoTokenizer\n",
    "from datasets import load_from_disk\n",
    "\n",
    "class ModelEvaluation:\n",
    "    def __init__(self, config: ModelEvaluationConfig):\n",
    "        self.config = config\n",
    "        # Convert to Path objects if they aren't already\n",
    "        self.metrics_file = Path(self.config.metric_file_name)\n",
    "        self.data_path = Path(self.config.data_path)\n",
    "        self.model_path = Path(self.config.model_path)\n",
    "        self.tokenizer_path = Path(self.config.tokenizer_path)\n",
    "\n",
    "    def generate_batch_sized_chunks(self, list_of_elements, batch_size):\n",
    "        \"\"\"Split the dataset into smaller batches\"\"\"\n",
    "        for i in range(0, len(list_of_elements), batch_size):\n",
    "            yield list_of_elements[i : i + batch_size]\n",
    "\n",
    "    def calculate_metric_on_test_ds(self, dataset, metric, model, tokenizer, \n",
    "                                 batch_size=16, device=\"cuda\" if torch.cuda.is_available() else \"cpu\", \n",
    "                                 column_text=\"dialogue\", \n",
    "                                 column_summary=\"summary\"):\n",
    "        article_batches = list(self.generate_batch_sized_chunks(dataset[column_text], batch_size))\n",
    "        target_batches = list(self.generate_batch_sized_chunks(dataset[column_summary], batch_size))\n",
    "\n",
    "        for article_batch, target_batch in tqdm(\n",
    "            zip(article_batches, target_batches), total=len(article_batches)):\n",
    "            \n",
    "            inputs = tokenizer(article_batch, max_length=1024, truncation=True, \n",
    "                            padding=\"max_length\", return_tensors=\"pt\")\n",
    "            \n",
    "            summaries = model.generate(\n",
    "                input_ids=inputs[\"input_ids\"].to(device),\n",
    "                attention_mask=inputs[\"attention_mask\"].to(device),\n",
    "                length_penalty=0.8, \n",
    "                num_beams=8, \n",
    "                max_length=128\n",
    "            )\n",
    "            \n",
    "            decoded_summaries = [\n",
    "                tokenizer.decode(s, skip_special_tokens=True, clean_up_tokenization_spaces=True) \n",
    "                for s in summaries\n",
    "            ]\n",
    "            \n",
    "            metric.add_batch(predictions=decoded_summaries, references=target_batch)\n",
    "            \n",
    "        return metric.compute()\n",
    "\n",
    "    def evaluate(self):\n",
    "        # Check if metrics file already exists\n",
    "        if self.metrics_file.exists():\n",
    "            print(f\"✅ Metrics file {self.metrics_file} already exists. Skipping evaluation...\")\n",
    "            return\n",
    "            \n",
    "        print(\"Starting evaluation...\")\n",
    "        \n",
    "        device = \"cuda\" if torch.cuda.is_available() else \"cpu\"\n",
    "        \n",
    "        # Load tokenizer and model\n",
    "        tokenizer = AutoTokenizer.from_pretrained(str(self.tokenizer_path))\n",
    "        model = AutoModelForSeq2SeqLM.from_pretrained(str(self.model_path)).to(device)\n",
    "       \n",
    "        # Load dataset\n",
    "        dataset = load_from_disk(str(self.data_path))\n",
    "\n",
    "        # Initialize ROUGE metric\n",
    "        try:\n",
    "            rouge_metric = evaluate.load('rouge')\n",
    "        except:\n",
    "            from rouge_score import rouge_scorer\n",
    "            rouge_metric = rouge_scorer.RougeScorer(['rouge1', 'rouge2', 'rougeL'], use_stemmer=True)\n",
    "\n",
    "        # Evaluate on first 10 samples\n",
    "        score = self.calculate_metric_on_test_ds(\n",
    "            dataset['test'][0:10], \n",
    "            rouge_metric, \n",
    "            model, \n",
    "            tokenizer, \n",
    "            batch_size=2, \n",
    "            column_text='dialogue', \n",
    "            column_summary='summary'\n",
    "        )\n",
    "\n",
    "        # Process results\n",
    "        if hasattr(score, 'items'):  # evaluate format\n",
    "            rouge_dict = {\n",
    "                'rouge1': score['rouge1'].mid.fmeasure,\n",
    "                'rouge2': score['rouge2'].mid.fmeasure,\n",
    "                'rougeL': score['rougeL'].mid.fmeasure,\n",
    "                'rougeLsum': score['rougeLsum'].mid.fmeasure\n",
    "            }\n",
    "        else:  # rouge_scorer format\n",
    "            rouge_dict = {\n",
    "                'rouge1': score['rouge1'].fmeasure,\n",
    "                'rouge2': score['rouge2'].fmeasure,\n",
    "                'rougeL': score['rougeL'].fmeasure,\n",
    "                'rougeLsum': score['rougeL'].fmeasure  # Approximation\n",
    "            }\n",
    "\n",
    "        # Save results\n",
    "        self.metrics_file.parent.mkdir(parents=True, exist_ok=True)\n",
    "        pd.DataFrame(rouge_dict, index=['pegasus']).to_csv(self.metrics_file, index=False)\n",
    "        print(f\"✅ Evaluation completed. Metrics saved to {self.metrics_file}\")"
   ]
  },
  {
   "cell_type": "code",
   "execution_count": 7,
   "metadata": {},
   "outputs": [
    {
     "name": "stdout",
     "output_type": "stream",
     "text": [
      "[2025-08-12 01:41:45,088: INFO: common: yaml file: config\\config.yaml loaded successfully]\n",
      "[2025-08-12 01:41:45,096: INFO: common: yaml file: params.yaml loaded successfully]\n",
      "[2025-08-12 01:41:45,101: INFO: common: created directory at: artifacts]\n",
      "[2025-08-12 01:41:45,103: INFO: common: created directory at: artifacts/model_evaluation]\n",
      "✅ Metrics file artifacts\\model_evaluation\\metrics.csv already exists. Skipping evaluation...\n"
     ]
    }
   ],
   "source": [
    "try:\n",
    "    config = ConfigurationManager()\n",
    "    model_evaluation_config = config.get_model_evaluation_config()\n",
    "    model_evaluation_config = ModelEvaluation(config=model_evaluation_config)\n",
    "    model_evaluation_config.evaluate()\n",
    "except Exception as e:\n",
    "    raise e"
   ]
  }
 ],
 "metadata": {
  "kernelspec": {
   "display_name": "venv",
   "language": "python",
   "name": "python3"
  },
  "language_info": {
   "codemirror_mode": {
    "name": "ipython",
    "version": 3
   },
   "file_extension": ".py",
   "mimetype": "text/x-python",
   "name": "python",
   "nbconvert_exporter": "python",
   "pygments_lexer": "ipython3",
   "version": "3.11.1"
  }
 },
 "nbformat": 4,
 "nbformat_minor": 2
}
